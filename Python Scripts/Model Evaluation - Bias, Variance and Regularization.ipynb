{
 "cells": [
  {
   "cell_type": "markdown",
   "metadata": {
    "nbpresent": {
     "id": "23dc0c54-3b54-405b-9287-cffedd07aa27"
    }
   },
   "source": [
    "## Bias, Variance, and Regularization"
   ]
  },
  {
   "cell_type": "markdown",
   "metadata": {
    "nbpresent": {
     "id": "a90cf85a-06fa-4d8a-b450-e872cb2f1925"
    }
   },
   "source": [
    "Blah, blah, blah, blah, BIAS. \n",
    "Blah, blah, blah, blah, VARIANCE. \n",
    "Blah, blah, OMG, TRADEOFF!! - Tom France\n",
    "\n",
    "Looks like that masters degree is really paying off! - Stephen\n"
   ]
  },
  {
   "cell_type": "code",
   "execution_count": 1,
   "metadata": {
    "collapsed": false,
    "nbpresent": {
     "id": "20c86e12-b16f-4912-9288-b23c2487ee70"
    }
   },
   "outputs": [],
   "source": [
    "import math\n",
    "from sklearn import cross_validation, linear_model\n",
    "from sklearn.cross_validation import train_test_split\n",
    "from pylab import *\n",
    "import random\n",
    "import pandas as pd\n",
    "import numpy as np\n",
    "from matplotlib import pyplot as plt\n",
    "%matplotlib inline\n",
    "\n",
    "xmin = -math.pi\n",
    "xmax = math.pi\n",
    "ymin = -2\n",
    "ymax = 2\n",
    "seedMap = np.linspace(200, 300,  endpoint=True, num=25)\n",
    "numberOfTrainingSets = len(seedMap)\n",
    "polynomialDegrees = [1, 2, 3, 10, 17]\n",
    "dataPointsPerTrainingSet = 80\n",
    "testSplit = 0.2"
   ]
  },
  {
   "cell_type": "code",
   "execution_count": 2,
   "metadata": {
    "collapsed": false,
    "nbpresent": {
     "id": "86378a79-dcea-4cf0-ac0a-b6d617a41f7b"
    }
   },
   "outputs": [],
   "source": [
    "# generate noisy data from an underlying function\n",
    "def createSineData(n, seed):\n",
    "    random.seed(seed) # for reproducibility\n",
    "    x = pd.Series([random.uniform(-math.pi, math.pi) for i in range(n)])\n",
    "    f = np.vectorize(lambda x: math.sin(x)) # our true function\n",
    "    y = x.apply(f) # generate our labels/outputs\n",
    "    e = pd.Series([random.gauss(0,1.0/3.0) for i in range(n)]) # add some noise\n",
    "    y = y + e\n",
    "    return np.stack((x, y), axis=-1)\n",
    "\n",
    "# Calculate Training MSE\n",
    "def MSE_ByComplexity(dataSet, solutionSet):\n",
    "      avgMSE = {}\n",
    "      for i in range(numberOfTrainingSets):\n",
    "            x = dataSet[i]['x']\n",
    "            y = dataSet[i]['y']\n",
    "            avgMSE[i] = {}\n",
    "            for s in range(polynomialDegrees.__len__()):\n",
    "                  avgMSE[i][s] = np.mean((np.polyval(solutionSet[i][s], x) - y) ** 2)\n",
    "\n",
    "      return avgMSE\n",
    "\n",
    "def transformArray(array, len):\n",
    "      transformedArray = {}\n",
    "      for i in range(len):\n",
    "            transformedArray[i] = {}\n",
    "            for j in range(numberOfTrainingSets):\n",
    "                  transformedArray[i][j] = array[j][i]\n",
    "      return transformedArray\n",
    "#For a given solution, average squared error across all datasets\n",
    "def MSE_toPlot(xpoints, solutionSet, solutionIndex, index):\n",
    "      meanSquaredError = {}\n",
    "      result = {}\n",
    "      len = xpoints.__len__()\n",
    "      x = pd.Series(xpoints)\n",
    "      f = np.vectorize(lambda x: math.sin(x))\n",
    "      y = x.apply(f)\n",
    "      for i in range(numberOfTrainingSets):\n",
    "            yhat = solutions[i][solutionIndex](xpoints)\n",
    "            meanSquaredError[i]= (yhat - y) ** 2\n",
    "      transformedMeanSquareError = transformArray(meanSquaredError, len)\n",
    "      for row in range(len):\n",
    "            sum = 0\n",
    "            for column in range(numberOfTrainingSets):\n",
    "                  sum = sum + transformedMeanSquareError[row][column]\n",
    "            result[row] = sum/numberOfTrainingSets\n",
    "      return result\n",
    "\n",
    "def avgFittedFunction(solutionSet):\n",
    "      avgEstimators = {}\n",
    "      for s in range(polynomialDegrees.__len__()):\n",
    "            sumEst = 0\n",
    "            for i in range(numberOfTrainingSets):\n",
    "                  sumEst = sumEst + solutionSet[i][s]\n",
    "            avgEstimators[s] = sumEst / numberOfTrainingSets\n",
    "      return avgEstimators\n",
    "#Not sure if this one is riight......\n",
    "def solutionBias_ByComplexity(dataSetTest, solutionSet):\n",
    "      solutionBias = {}\n",
    "      avgEstimators = avgFittedFunction(solutionSet)\n",
    "      for s in range(polynomialDegrees.__len__()):\n",
    "            solutionBiasPerDataSet = []\n",
    "            x = pd.Series([random.uniform(-math.pi, math.pi) for i in range(dataPointsPerTrainingSet)])\n",
    "            f = np.vectorize(lambda x: math.sin(x))  # our true function\n",
    "            y = x.apply(f)\n",
    "            solutionBias[s] = np.mean(np.polyval(avgEstimators[s], x)-y)\n",
    "      return solutionBias\n",
    "\n",
    "dataSetsTrain = {}\n",
    "dataSetsTest = {}\n",
    "for i in range(numberOfTrainingSets):\n",
    "      dataSetsTrain[i] = {}\n",
    "      dataSetsTest[i] = {}\n",
    "      ds = createSineData(dataPointsPerTrainingSet, seedMap[i])\n",
    "      train, test = train_test_split(ds, test_size=testSplit)\n",
    "      dataSetsTrain[i]['x'] = train[:,0]\n",
    "      dataSetsTrain[i]['y'] = train[:,1]\n",
    "      dataSetsTest[i]['x'] = test[:,0]\n",
    "      dataSetsTest[i]['y'] = test[:,1]\n",
    "\n",
    "#Train solutions for each training data set across several degrees of polynomial complexity\n",
    "solutions = {}\n",
    "for x in range(numberOfTrainingSets):\n",
    "      solutions[x]={}\n",
    "      for s in range(polynomialDegrees.__len__()):\n",
    "            x1 = dataSetsTrain[x]['x']\n",
    "            y1 = dataSetsTrain[x]['y']\n",
    "            func = np.polyfit(x1, y1, polynomialDegrees[s])\n",
    "            solutions[x][s] = poly1d(func)"
   ]
  },
  {
   "cell_type": "markdown",
   "metadata": {},
   "source": [
    "## Polynomial regression - true f(x) = sin(x) + gaussian noise\n",
    "## 25 data sets with 80 observations total, split with 80% in train and 20% in test\n",
    "## Models of polynomial degree varying over the range [1, 2, 3, 10, 17]\n"
   ]
  },
  {
   "cell_type": "markdown",
   "metadata": {
    "nbpresent": {
     "id": "40f6ab25-d16c-43ce-b317-f9624409d677"
    }
   },
   "source": [
    "## One of our data sets"
   ]
  },
  {
   "cell_type": "code",
   "execution_count": 3,
   "metadata": {
    "collapsed": false,
    "nbpresent": {
     "id": "8f4f0169-b177-44cf-aebc-bf2874c875aa"
    }
   },
   "outputs": [
    {
     "data": {
      "image/png": "[encoded data removed]",
      "text/plain": [
       "<matplotlib.figure.Figure at 0x1567fbbeef0>"
      ]
     },
     "metadata": {},
     "output_type": "display_data"
    }
   ],
   "source": [
    "index = 0\n",
    "x = dataSetsTrain[index]['x']\n",
    "y = dataSetsTrain[index]['y']\n",
    "\n",
    "_ = plt.plot(x, y, '.')"
   ]
  },
  {
   "cell_type": "markdown",
   "metadata": {
    "nbpresent": {
     "id": "274b78f3-df52-4df5-b70c-6363a431f17f"
    }
   },
   "source": [
    "## Fitting a 0-degree Polynomial \n"
   ]
  },
  {
   "cell_type": "code",
   "execution_count": 4,
   "metadata": {
    "collapsed": false,
    "nbpresent": {
     "id": "b4496927-4fef-420c-b772-82fe32939c9d"
    }
   },
   "outputs": [
    {
     "data": {
      "image/png": "[encoded data removed]",
      "text/plain": [
       "<matplotlib.figure.Figure at 0x15605278860>"
      ]
     },
     "metadata": {},
     "output_type": "display_data"
    }
   ],
   "source": [
    "p0 = np.poly1d(np.polyfit(x, y, 0))\n",
    "xpoints = np.linspace(-math.pi, math.pi, 100)\n",
    "_ = plt.plot(x, y, '.')\n",
    "_ = plt.plot(xpoints, p0(xpoints), '-', label = 'degree 0 fit')\n",
    "_ = plt.legend(loc='upper left')"
   ]
  },
  {
   "cell_type": "markdown",
   "metadata": {
    "nbpresent": {
     "id": "922bc755-438a-4a62-9675-57737e3e947c"
    }
   },
   "source": [
    "## Fitting a 1-degree Polynomial $$MSE = E[( \\hat{f} - y)^2]$$\n"
   ]
  },
  {
   "cell_type": "code",
   "execution_count": 5,
   "metadata": {
    "collapsed": false,
    "nbpresent": {
     "id": "d794ad1e-e9c0-489f-89cb-c9c71b21d579"
    }
   },
   "outputs": [
    {
     "name": "stdout",
     "output_type": "stream",
     "text": [
      "Training MSE: 0.299971331776\n"
     ]
    },
    {
     "data": {
      "image/png": "[encoded data removed]",
      "text/plain": [
       "<matplotlib.figure.Figure at 0x15605333dd8>"
      ]
     },
     "metadata": {},
     "output_type": "display_data"
    }
   ],
   "source": [
    "index = 0\n",
    "solutionIndex = 0\n",
    "p1 = solutions[index][solutionIndex]\n",
    "xpoints = np.linspace(-math.pi, math.pi, 100)\n",
    "\n",
    "_ = plt.plot(x, y, '.')\n",
    "_ = plt.plot(xpoints, p1(xpoints), '-', label = 'degree 1 fit')\n",
    "_ = plt.legend(loc='upper left')\n",
    "\n",
    "print(\"Training MSE: \" + str(MSE_ByComplexity(dataSetsTrain, solutions)[index][solutionIndex]))"
   ]
  },
  {
   "cell_type": "markdown",
   "metadata": {
    "nbpresent": {
     "id": "b88abfac-02be-4d16-a9a0-d4a61a1c4053"
    }
   },
   "source": [
    "## Fitting a 3-degree Polynomial"
   ]
  },
  {
   "cell_type": "code",
   "execution_count": 6,
   "metadata": {
    "collapsed": false,
    "nbpresent": {
     "id": "7f35badf-9cff-4cfc-aa71-a0d66d0d5603"
    }
   },
   "outputs": [
    {
     "name": "stdout",
     "output_type": "stream",
     "text": [
      "Training MSE: 0.0815610076977\n"
     ]
    },
    {
     "data": {
      "image/png": "[encoded data removed]",
      "text/plain": [
       "<matplotlib.figure.Figure at 0x15605333320>"
      ]
     },
     "metadata": {},
     "output_type": "display_data"
    }
   ],
   "source": [
    "solutionIndex = 2\n",
    "p3 = p1 = solutions[index][solutionIndex]\n",
    "\n",
    "_ = plt.plot(x, y, '.')\n",
    "_ = plt.plot(xpoints, p3(xpoints), '-', label = 'degree 3 fit')\n",
    "_ = plt.legend(loc='upper left')\n",
    "print(\"Training MSE: \" + str(MSE_ByComplexity(dataSetsTrain, solutions)[index][solutionIndex]))"
   ]
  },
  {
   "cell_type": "markdown",
   "metadata": {
    "nbpresent": {
     "id": "7b71b8fd-acc0-46f0-93e2-17008cbb6c37"
    }
   },
   "source": [
    "## Fitting a 17-degree Polynomial"
   ]
  },
  {
   "cell_type": "code",
   "execution_count": 7,
   "metadata": {
    "collapsed": false,
    "nbpresent": {
     "id": "ba649845-44cf-41db-9cd8-33a41e3dd208"
    },
    "scrolled": true
   },
   "outputs": [
    {
     "name": "stdout",
     "output_type": "stream",
     "text": [
      "Training MSE: 0.0649207506138\n"
     ]
    },
    {
     "data": {
      "image/png": "[encoded data removed]",
      "text/plain": [
       "<matplotlib.figure.Figure at 0x1560540f748>"
      ]
     },
     "metadata": {},
     "output_type": "display_data"
    }
   ],
   "source": [
    "solutionIndex = 4\n",
    "p10 = solutions[index][solutionIndex]\n",
    "\n",
    "axes = plt.gca()\n",
    "axes.set_xlim(-math.pi,math.pi)\n",
    "axes.set_ylim(-1.5,1.5)\n",
    "\n",
    "_ = plt.plot(x, y, '.')\n",
    "_ = plt.plot(xpoints, p10(xpoints), '-', label = 'degree 17 fit')\n",
    "_ = plt.legend(loc='upper left')\n",
    "print(\"Training MSE: \" + str(MSE_ByComplexity(dataSetsTrain, solutions)[index][solutionIndex]))"
   ]
  },
  {
   "cell_type": "code",
   "execution_count": 8,
   "metadata": {
    "collapsed": false,
    "nbpresent": {
     "id": "b4408bbb-40f2-4209-83e1-eeb72c2ba22c"
    },
    "scrolled": true
   },
   "outputs": [
    {
     "name": "stdout",
     "output_type": "stream",
     "text": [
      "Training MSE for degree 1: 0.299971331776\n",
      "Training MSE for degree 2: 0.295053753268\n",
      "Training MSE for degree 3: 0.0815610076977\n",
      "Training MSE for degree 10: 0.0691639533729\n",
      "Training MSE for degree 17: 0.0649207506138\n"
     ]
    }
   ],
   "source": [
    "trainingMSE = MSE_ByComplexity(dataSetsTrain, solutions)\n",
    "for s in range(len(polynomialDegrees)) :\n",
    "      print(\"Training MSE for degree \" + str(polynomialDegrees[s]) + \": \" + str(trainingMSE[index][s]))"
   ]
  },
  {
   "cell_type": "code",
   "execution_count": 9,
   "metadata": {
    "collapsed": false,
    "nbpresent": {
     "id": "2f8990ce-70d8-4c4f-b8f2-92e6d4e470da"
    }
   },
   "outputs": [
    {
     "name": "stdout",
     "output_type": "stream",
     "text": [
      "Test MSE: 1: 0.135016954031\n",
      "Test MSE: 2: 0.120543287968\n",
      "Test MSE: 3: 0.0648299283972\n",
      "Test MSE: 10: 0.0973279935372\n",
      "Test MSE: 17: 0.167086066574\n"
     ]
    }
   ],
   "source": [
    "testMSE = MSE_ByComplexity(dataSetsTest, solutions)\n",
    "for s in range(len(polynomialDegrees)) :\n",
    "      print(\"Test MSE: \" + str(polynomialDegrees[s]) + \": \" + str(testMSE[index][s]))"
   ]
  },
  {
   "cell_type": "markdown",
   "metadata": {
    "nbpresent": {
     "id": "b15d95a9-b85e-4aef-861a-cb87bd3d3fbc"
    }
   },
   "source": [
    "## Polynomial complexity and training error"
   ]
  },
  {
   "cell_type": "code",
   "execution_count": null,
   "metadata": {
    "collapsed": false,
    "nbpresent": {
     "id": "da3a6e30-0fe7-41d7-8e02-89c0fdd8c9f0"
    }
   },
   "outputs": [],
   "source": [
    "solutionIndex = 0\n",
    "error = MSE_toPlot(xpoints, solutions, solutionIndex, index)\n",
    "ax1, ax2 = plt.subplots(2,1,figsize=(14,14))\n",
    "ax1 = plt.subplot(311)\n",
    "ax1.plot(xpoints, sin(xpoints), 'k-', linewidth=4)\n",
    "ax1.plot(xpoints, avgFittedFunction(solutions)[solutionIndex](xpoints), 'g-', linewidth=4)\n",
    "ax1.set_xlim([xmin,xmax])\n",
    "ax1.set_ylim([-1.25,1.25])\n",
    "for i in range(numberOfTrainingSets):\n",
    "      ax1.plot(xpoints,solutions[i][solutionIndex](xpoints),'y-')\n",
    "ax2 = plt.subplot(312, sharex=ax1)\n",
    "plt.plot(xpoints, pd.Series(error), 'r--', linewidth=4)\n",
    "ax2.set_xlim([xmin,xmax])\n",
    "ax2.set_ylim([0,.5])\n",
    "\n"
   ]
  },
  {
   "cell_type": "code",
   "execution_count": null,
   "metadata": {
    "collapsed": false,
    "nbpresent": {
     "id": "e0a7c7a9-9723-49db-8a23-66fea9d6b59b"
    }
   },
   "outputs": [],
   "source": [
    "solutionIndex = 2\n",
    "error = MSE_toPlot(xpoints, solutions, solutionIndex, index)\n",
    "ax1, ax2 = plt.subplots(2,1,figsize=(14,14))\n",
    "ax1 = plt.subplot(311)\n",
    "ax1.plot(xpoints, sin(xpoints), 'k-', linewidth=4)\n",
    "ax1.plot(xpoints, avgFittedFunction(solutions)[solutionIndex](xpoints), 'g-', linewidth=4)\n",
    "ax1.set_xlim([xmin,xmax])\n",
    "ax1.set_ylim([-1.25,1.25])\n",
    "for i in range(numberOfTrainingSets):\n",
    "      ax1.plot(xpoints,solutions[i][solutionIndex](xpoints),'y-')\n",
    "ax2 = plt.subplot(312, sharex=ax1)\n",
    "plt.plot(xpoints, pd.Series(error), 'r--', linewidth=4)\n",
    "ax2.set_xlim([xmin,xmax])\n",
    "ax2.set_ylim([0,.5])"
   ]
  },
  {
   "cell_type": "code",
   "execution_count": null,
   "metadata": {
    "collapsed": false,
    "nbpresent": {
     "id": "011133bf-0269-4456-ba89-db90a23aec29"
    }
   },
   "outputs": [],
   "source": [
    "solutionIndex = 4\n",
    "error = MSE_toPlot(xpoints, solutions, solutionIndex, index)\n",
    "ax1, ax2 = plt.subplots(2,1,figsize=(14,14))\n",
    "ax1 = plt.subplot(311)\n",
    "ax1.plot(xpoints, sin(xpoints), 'k-', linewidth=4)\n",
    "ax1.plot(xpoints, avgFittedFunction(solutions)[solutionIndex](xpoints), 'g-', linewidth=4)\n",
    "ax1.set_xlim([xmin,xmax])\n",
    "ax1.set_ylim([-1.25,1.25])\n",
    "for i in range(numberOfTrainingSets):\n",
    "      ax1.plot(xpoints,solutions[i][solutionIndex](xpoints),'y-')\n",
    "ax2 = plt.subplot(312, sharex=ax1)\n",
    "plt.plot(xpoints, pd.Series(error), 'r--', linewidth=4)\n",
    "ax2.set_xlim([xmin,xmax])\n",
    "ax2.set_ylim([0,.5])"
   ]
  },
  {
   "cell_type": "markdown",
   "metadata": {
    "nbpresent": {
     "id": "fc449597-c006-4ef5-b3fc-9475e2caeeb3"
    }
   },
   "source": [
    "## Decomposition of MSE into Variance, Bias, and Irreducible error"
   ]
  },
  {
   "cell_type": "markdown",
   "metadata": {
    "nbpresent": {
     "id": "8c6ebb65-8703-4621-a11e-6607d14ffb14"
    }
   },
   "source": [
    "![title](../Images/BiasVarianceDecomposition.svg"
   ]
  },
  {
   "cell_type": "markdown",
   "metadata": {
    "nbpresent": {
     "id": "d7debd16-0990-4566-96ba-eecd668ebf6a"
    }
   },
   "source": [
    "![title](../Images/BiasVarianceDecomposition.svg)"
   ]
  },
  {
   "cell_type": "code",
   "execution_count": null,
   "metadata": {
    "collapsed": false,
    "nbpresent": {
     "id": "4fbd9129-5081-4b63-9af9-7a6da7f61e3b"
    }
   },
   "outputs": [],
   "source": [
    "from IPython.core.display import Image, display\n",
    "display(Image('https://theclevermachine.files.wordpress.com/2013/04/bias-variance-tradeoff.png', width=600, unconfined=True))"
   ]
  },
  {
   "cell_type": "code",
   "execution_count": null,
   "metadata": {
    "collapsed": false,
    "nbpresent": {
     "id": "9c19be51-8619-403b-8cb9-3eae3e8d44ce"
    }
   },
   "outputs": [],
   "source": [
    "from IPython.core.display import Image, display\n",
    "display(Image('https://theclevermachine.files.wordpress.com/2013/04/bias-variance-train-test-error.png', width=600, unconfined=True))"
   ]
  },
  {
   "cell_type": "markdown",
   "metadata": {
    "nbpresent": {
     "id": "8b7d722a-f98f-438e-983c-1bb9cff81790"
    }
   },
   "source": [
    "## Effect of sample size on model complexity"
   ]
  },
  {
   "cell_type": "markdown",
   "metadata": {
    "nbpresent": {
     "id": "632e62e1-39e4-4d18-bc96-98008997fd68"
    }
   },
   "source": [
    "### Fitting a 18-degree Polynomial, n = 30"
   ]
  },
  {
   "cell_type": "code",
   "execution_count": null,
   "metadata": {
    "collapsed": false,
    "nbpresent": {
     "id": "513ef97d-76f7-4403-ba8b-2941c761550c"
    }
   },
   "outputs": [],
   "source": [
    "ds = createSineData(30, seedMap[6])\n",
    "x = ds[:,0]\n",
    "y = ds[:,1]\n",
    "xpoints = np.linspace(-math.pi, math.pi, 100)\n",
    "\n",
    "p6 = np.poly1d(np.polyfit(x, y, 18))\n",
    "_ = plt.plot(x, y, '.')\n",
    "_ = plt.plot(xpoints, p6(xpoints), '-', label = 'degree 18 fit')\n",
    "_ = plt.legend(loc='upper left')"
   ]
  },
  {
   "cell_type": "markdown",
   "metadata": {
    "nbpresent": {
     "id": "2ca5b5e2-d99a-4b82-a8de-4798a9ed490e"
    }
   },
   "source": [
    "### Fitting a 18-degree Polynomial, n = 100"
   ]
  },
  {
   "cell_type": "code",
   "execution_count": null,
   "metadata": {
    "collapsed": false,
    "nbpresent": {
     "id": "cb02c8bc-859a-41ed-afcf-6646a69f6904"
    }
   },
   "outputs": [],
   "source": [
    "ds = createSineData(100, seedMap[6])\n",
    "x = ds[:,0]\n",
    "y = ds[:,1]\n",
    "xpoints = np.linspace(-math.pi, math.pi, 100)\n",
    "\n",
    "p18 = np.poly1d(np.polyfit(x, y, 18))\n",
    "_ = plt.plot(x, y, '.')\n",
    "_ = plt.plot(xpoints, p18(xpoints), '-', label = 'degree 18 fit')\n",
    "_ = plt.legend(loc='upper left')"
   ]
  },
  {
   "cell_type": "markdown",
   "metadata": {
    "nbpresent": {
     "id": "b307b6d5-4edb-44cc-bc1e-8bd249ef6fda"
    }
   },
   "source": [
    "### Fitting a 18-degree Polynomial, n = 300"
   ]
  },
  {
   "cell_type": "code",
   "execution_count": null,
   "metadata": {
    "collapsed": false,
    "nbpresent": {
     "id": "e8a7c2db-3b40-4ad4-aa96-1d53706d1d9a"
    }
   },
   "outputs": [],
   "source": [
    "ds = createSineData(300, seedMap[6])\n",
    "x = ds[:,0]\n",
    "y = ds[:,1]\n",
    "xpoints = np.linspace(-math.pi, math.pi, 100)\n",
    "\n",
    "p18 = np.poly1d(np.polyfit(x, y, 18))\n",
    "_ = plt.plot(x, y, '.')\n",
    "_ = plt.plot(xpoints, p18(xpoints), '-', label = 'degree 18 fit')\n",
    "_ = plt.legend(loc='upper left')"
   ]
  },
  {
   "cell_type": "markdown",
   "metadata": {
    "nbpresent": {
     "id": "c4c88cd9-845d-46b0-b0cf-f0f03555db15"
    }
   },
   "source": [
    "The extra data (evenly distributed) constrains the function"
   ]
  }
 ],
 "metadata": {
  "anaconda-cloud": {},
  "kernelspec": {
   "display_name": "Python [Root]",
   "language": "python",
   "name": "Python [Root]"
  },
  "language_info": {
   "codemirror_mode": {
    "name": "ipython",
    "version": 3
   },
   "file_extension": ".py",
   "mimetype": "text/x-python",
   "name": "python",
   "nbconvert_exporter": "python",
   "pygments_lexer": "ipython3",
   "version": "3.5.2"
  },
  "nbpresent": {
   "slides": {
    "0befb280-6ad6-4c0a-8d58-f9a82474c3f7": {
     "id": "0befb280-6ad6-4c0a-8d58-f9a82474c3f7",
     "prev": "7b87ed53-0b7c-4159-b64b-25f4ab255811",
     "regions": {
      "d1636cdb-6ddb-4e88-8cc2-a4ce5bf415ee": {
       "attrs": {
        "height": 0.8,
        "width": 0.8,
        "x": 0.1,
        "y": 0.1
       },
       "content": {
        "cell": "2f8990ce-70d8-4c4f-b8f2-92e6d4e470da",
        "part": "whole"
       },
       "id": "d1636cdb-6ddb-4e88-8cc2-a4ce5bf415ee"
      }
     }
    },
    "12148fbf-6a04-486c-b782-3159458c103b": {
     "id": "12148fbf-6a04-486c-b782-3159458c103b",
     "prev": "7fc789b6-8363-483e-8f52-76e82c99e089",
     "regions": {
      "242f43d8-84ab-461c-a31b-06b88a5cc0b5": {
       "attrs": {
        "height": 0.8,
        "width": 0.8,
        "x": 0.1,
        "y": 0.1
       },
       "content": {
        "cell": "fc449597-c006-4ef5-b3fc-9475e2caeeb3",
        "part": "whole"
       },
       "id": "242f43d8-84ab-461c-a31b-06b88a5cc0b5"
      }
     }
    },
    "13966881-67fd-4821-aa18-ec64578e34f2": {
     "id": "13966881-67fd-4821-aa18-ec64578e34f2",
     "prev": "3ea34085-3d13-4c89-98f4-b894911a040f",
     "regions": {
      "55d8ae6f-71ef-4f81-8b1c-7992e408198c": {
       "attrs": {
        "height": 0.8,
        "width": 0.8,
        "x": 0.1,
        "y": 0.1
       },
       "content": {
        "cell": "40f6ab25-d16c-43ce-b317-f9624409d677",
        "part": "whole"
       },
       "id": "55d8ae6f-71ef-4f81-8b1c-7992e408198c"
      }
     }
    },
    "1d76a8f9-876a-43fe-b99d-0107275d5ae1": {
     "id": "1d76a8f9-876a-43fe-b99d-0107275d5ae1",
     "prev": null,
     "regions": {
      "d8d0c663-011b-4dae-b563-105ebeee6f2d": {
       "attrs": {
        "height": 0.8,
        "width": 0.8,
        "x": 0.1,
        "y": 0.1
       },
       "content": {
        "cell": "23dc0c54-3b54-405b-9287-cffedd07aa27",
        "part": "whole"
       },
       "id": "d8d0c663-011b-4dae-b563-105ebeee6f2d"
      }
     }
    },
    "2b2b70be-718c-4db1-b2fe-309f200a8c2a": {
     "id": "2b2b70be-718c-4db1-b2fe-309f200a8c2a",
     "prev": "a3089df6-39a9-4c32-958f-ff182a7bdbd6",
     "regions": {
      "95d34dcc-562d-4293-a3e7-964f6c685fdd": {
       "attrs": {
        "height": 0.8,
        "width": 0.8,
        "x": 0.1,
        "y": 0.1
       },
       "content": {
        "cell": "513ef97d-76f7-4403-ba8b-2941c761550c",
        "part": "whole"
       },
       "id": "95d34dcc-562d-4293-a3e7-964f6c685fdd"
      }
     }
    },
    "31558b03-833a-4b52-b0e9-cff16846e5bb": {
     "id": "31558b03-833a-4b52-b0e9-cff16846e5bb",
     "prev": "0befb280-6ad6-4c0a-8d58-f9a82474c3f7",
     "regions": {
      "bd40be22-252a-4093-bf63-d105d99cb850": {
       "attrs": {
        "height": 0.8,
        "width": 0.8,
        "x": 0.1,
        "y": 0.1
       },
       "content": {
        "cell": "b15d95a9-b85e-4aef-861a-cb87bd3d3fbc",
        "part": "whole"
       },
       "id": "bd40be22-252a-4093-bf63-d105d99cb850"
      }
     }
    },
    "33d6b748-30c0-4213-980e-10229c1a7fc7": {
     "id": "33d6b748-30c0-4213-980e-10229c1a7fc7",
     "prev": "a33aa448-8842-415a-bc0c-ba9ad2dbde94",
     "regions": {
      "81d31336-f771-4959-a80c-855592e40064": {
       "attrs": {
        "height": 0.8,
        "width": 0.8,
        "x": 0.1,
        "y": 0.1
       },
       "content": {
        "cell": "b4496927-4fef-420c-b772-82fe32939c9d",
        "part": "whole"
       },
       "id": "81d31336-f771-4959-a80c-855592e40064"
      }
     }
    },
    "3d450378-f73d-49c5-bdf4-b4153d1c80ca": {
     "id": "3d450378-f73d-49c5-bdf4-b4153d1c80ca",
     "prev": "8479b30b-3747-42fe-8220-398ab0d50ae0",
     "regions": {
      "eebf49f2-ff89-4fb8-996b-2455575986ac": {
       "attrs": {
        "height": 0.8,
        "width": 0.8,
        "x": 0.1,
        "y": 0.1
       },
       "content": {
        "cell": "a90cf85a-06fa-4d8a-b450-e872cb2f1925",
        "part": "whole"
       },
       "id": "eebf49f2-ff89-4fb8-996b-2455575986ac"
      }
     }
    },
    "3ea34085-3d13-4c89-98f4-b894911a040f": {
     "id": "3ea34085-3d13-4c89-98f4-b894911a040f",
     "prev": "761aff44-d52f-4619-8746-d04d18d75c6d",
     "regions": {
      "f4f4b474-1166-4b77-ad89-8733551c717f": {
       "attrs": {
        "height": 0.8,
        "width": 0.8,
        "x": 0.1,
        "y": 0.1
       },
       "content": {
        "cell": "86378a79-dcea-4cf0-ac0a-b6d617a41f7b",
        "part": "whole"
       },
       "id": "f4f4b474-1166-4b77-ad89-8733551c717f"
      }
     }
    },
    "52c10b3b-aa91-4699-8791-748ade459fc5": {
     "id": "52c10b3b-aa91-4699-8791-748ade459fc5",
     "prev": "d6c7fc18-4ea2-4a34-bbdb-e449411ced0c",
     "regions": {
      "9f574ade-38df-4822-bb56-d90b40816baa": {
       "attrs": {
        "height": 0.8,
        "width": 0.8,
        "x": 0.1,
        "y": 0.1
       },
       "content": {
        "cell": "7f35badf-9cff-4cfc-aa71-a0d66d0d5603",
        "part": "whole"
       },
       "id": "9f574ade-38df-4822-bb56-d90b40816baa"
      }
     }
    },
    "57abb9d9-08a4-4992-ade8-c17b86c2eef7": {
     "id": "57abb9d9-08a4-4992-ade8-c17b86c2eef7",
     "prev": "f49b60d0-87b9-4874-af0b-512deddb1bf6",
     "regions": {
      "a57e2c0a-f526-4501-868a-6b99619ecfdd": {
       "attrs": {
        "height": 0.8,
        "width": 0.8,
        "x": 0.1,
        "y": 0.1
       },
       "content": {
        "cell": "cb02c8bc-859a-41ed-afcf-6646a69f6904",
        "part": "whole"
       },
       "id": "a57e2c0a-f526-4501-868a-6b99619ecfdd"
      }
     }
    },
    "6825e733-0d56-4bc8-b4c5-61eef425d411": {
     "id": "6825e733-0d56-4bc8-b4c5-61eef425d411",
     "prev": "99a7eff6-f0d5-4b90-90e3-f2529e0e720e",
     "regions": {
      "b10b3b88-a9bd-4d88-98ea-6f74399115f1": {
       "attrs": {
        "height": 0.8,
        "width": 0.8,
        "x": 0.1,
        "y": 0.1
       },
       "content": {
        "cell": "d7debd16-0990-4566-96ba-eecd668ebf6a",
        "part": "whole"
       },
       "id": "b10b3b88-a9bd-4d88-98ea-6f74399115f1"
      }
     }
    },
    "6ff2bcd4-dd73-4dbc-9352-fc0bd0a0302d": {
     "id": "6ff2bcd4-dd73-4dbc-9352-fc0bd0a0302d",
     "prev": "52c10b3b-aa91-4699-8791-748ade459fc5",
     "regions": {
      "6a8536e0-311d-4923-84c5-32d4fe1b6f84": {
       "attrs": {
        "height": 0.8,
        "width": 0.8,
        "x": 0.1,
        "y": 0.1
       },
       "content": {
        "cell": "7b71b8fd-acc0-46f0-93e2-17008cbb6c37",
        "part": "whole"
       },
       "id": "6a8536e0-311d-4923-84c5-32d4fe1b6f84"
      }
     }
    },
    "75dbcf51-f439-4e68-aef3-5120ae4240f4": {
     "id": "75dbcf51-f439-4e68-aef3-5120ae4240f4",
     "prev": "d3b24fd2-3be7-4760-b8f9-b1d80f2de424",
     "regions": {
      "80b1b48a-43d7-413e-a924-dfab3b67dcea": {
       "attrs": {
        "height": 0.8,
        "width": 0.8,
        "x": 0.1,
        "y": 0.1
       },
       "content": {
        "cell": "e0a7c7a9-9723-49db-8a23-66fea9d6b59b",
        "part": "whole"
       },
       "id": "80b1b48a-43d7-413e-a924-dfab3b67dcea"
      }
     }
    },
    "761aff44-d52f-4619-8746-d04d18d75c6d": {
     "id": "761aff44-d52f-4619-8746-d04d18d75c6d",
     "prev": "3d450378-f73d-49c5-bdf4-b4153d1c80ca",
     "regions": {
      "4f7f2cb8-0ea1-4366-a442-929b743e5b54": {
       "attrs": {
        "height": 0.8,
        "width": 0.8,
        "x": 0.1,
        "y": 0.1
       },
       "content": {
        "cell": "20c86e12-b16f-4912-9288-b23c2487ee70",
        "part": "whole"
       },
       "id": "4f7f2cb8-0ea1-4366-a442-929b743e5b54"
      }
     }
    },
    "7b87ed53-0b7c-4159-b64b-25f4ab255811": {
     "id": "7b87ed53-0b7c-4159-b64b-25f4ab255811",
     "prev": "ab8e295e-bbb3-4d90-b675-8e4366bf38ca",
     "regions": {
      "3bbe546c-26e3-4ad2-b544-3ebc77316cc9": {
       "attrs": {
        "height": 0.8,
        "width": 0.8,
        "x": 0.1,
        "y": 0.1
       },
       "content": {
        "cell": "b4408bbb-40f2-4209-83e1-eeb72c2ba22c",
        "part": "whole"
       },
       "id": "3bbe546c-26e3-4ad2-b544-3ebc77316cc9"
      }
     }
    },
    "7fc789b6-8363-483e-8f52-76e82c99e089": {
     "id": "7fc789b6-8363-483e-8f52-76e82c99e089",
     "prev": "75dbcf51-f439-4e68-aef3-5120ae4240f4",
     "regions": {
      "b9225c14-8ab5-4ba2-bc24-e1db69d63af7": {
       "attrs": {
        "height": 0.8,
        "width": 0.8,
        "x": 0.1,
        "y": 0.1
       },
       "content": {
        "cell": "011133bf-0269-4456-ba89-db90a23aec29",
        "part": "whole"
       },
       "id": "b9225c14-8ab5-4ba2-bc24-e1db69d63af7"
      }
     }
    },
    "80b57665-05d3-4179-b6a7-616d016d7e42": {
     "id": "80b57665-05d3-4179-b6a7-616d016d7e42",
     "prev": "c7d316c6-eaa6-4df9-9470-eac6b8a39e11",
     "regions": {
      "d086a9f4-03f5-4ec6-9a7c-3e0ecaf495f4": {
       "attrs": {
        "height": 0.8,
        "width": 0.8,
        "x": 0.1,
        "y": 0.1
       },
       "content": {
        "cell": "d794ad1e-e9c0-489f-89cb-c9c71b21d579",
        "part": "whole"
       },
       "id": "d086a9f4-03f5-4ec6-9a7c-3e0ecaf495f4"
      }
     }
    },
    "8167b954-f172-4fdf-bb97-10b42bce67f4": {
     "id": "8167b954-f172-4fdf-bb97-10b42bce67f4",
     "prev": "99375e48-2905-4faf-bb51-9ab31717e786",
     "regions": {
      "06c61e05-361b-4e50-ae74-47541e6d4d54": {
       "attrs": {
        "height": 0.8,
        "width": 0.8,
        "x": 0.1,
        "y": 0.1
       },
       "content": {
        "cell": "e8a7c2db-3b40-4ad4-aa96-1d53706d1d9a",
        "part": "whole"
       },
       "id": "06c61e05-361b-4e50-ae74-47541e6d4d54"
      }
     }
    },
    "828658c0-3736-4841-8892-ab450aeda9a7": {
     "id": "828658c0-3736-4841-8892-ab450aeda9a7",
     "prev": "a4d979e6-5894-4d37-a647-d370c1ad9933",
     "regions": {
      "4845a2e6-8480-4c2b-9eb3-4665f2f460c6": {
       "attrs": {
        "height": 0.8,
        "width": 0.8,
        "x": 0.1,
        "y": 0.1
       },
       "content": {
        "cell": "ff44aa34-9f88-4707-a001-dc128b982d3c",
        "part": "whole"
       },
       "id": "4845a2e6-8480-4c2b-9eb3-4665f2f460c6"
      }
     }
    },
    "8479b30b-3747-42fe-8220-398ab0d50ae0": {
     "id": "8479b30b-3747-42fe-8220-398ab0d50ae0",
     "prev": "1d76a8f9-876a-43fe-b99d-0107275d5ae1",
     "regions": {
      "c358b2e4-e1c4-438c-9ad4-a7aa60b0c638": {
       "attrs": {
        "height": 0.8,
        "width": 0.8,
        "x": 0.1,
        "y": 0.1
       },
       "content": null,
       "id": "c358b2e4-e1c4-438c-9ad4-a7aa60b0c638"
      }
     }
    },
    "99375e48-2905-4faf-bb51-9ab31717e786": {
     "id": "99375e48-2905-4faf-bb51-9ab31717e786",
     "prev": "57abb9d9-08a4-4992-ade8-c17b86c2eef7",
     "regions": {
      "b17b7e65-049f-47ec-9f9b-c269a8cdeae8": {
       "attrs": {
        "height": 0.8,
        "width": 0.8,
        "x": 0.1,
        "y": 0.1
       },
       "content": {
        "cell": "b307b6d5-4edb-44cc-bc1e-8bd249ef6fda",
        "part": "whole"
       },
       "id": "b17b7e65-049f-47ec-9f9b-c269a8cdeae8"
      }
     }
    },
    "99a7eff6-f0d5-4b90-90e3-f2529e0e720e": {
     "id": "99a7eff6-f0d5-4b90-90e3-f2529e0e720e",
     "prev": "12148fbf-6a04-486c-b782-3159458c103b",
     "regions": {
      "d96bba67-226d-4570-97ee-d9715172264d": {
       "attrs": {
        "height": 0.8,
        "width": 0.8,
        "x": 0.1,
        "y": 0.1
       },
       "content": {
        "cell": "8c6ebb65-8703-4621-a11e-6607d14ffb14",
        "part": "whole"
       },
       "id": "d96bba67-226d-4570-97ee-d9715172264d"
      }
     }
    },
    "a3089df6-39a9-4c32-958f-ff182a7bdbd6": {
     "id": "a3089df6-39a9-4c32-958f-ff182a7bdbd6",
     "prev": "f9a5f751-5db0-4efc-88d2-08fd16599997",
     "regions": {
      "ffef5e21-2e59-4e97-9a1a-2fa06c71ac97": {
       "attrs": {
        "height": 0.8,
        "width": 0.8,
        "x": 0.1,
        "y": 0.1
       },
       "content": {
        "cell": "632e62e1-39e4-4d18-bc96-98008997fd68",
        "part": "whole"
       },
       "id": "ffef5e21-2e59-4e97-9a1a-2fa06c71ac97"
      }
     }
    },
    "a33aa448-8842-415a-bc0c-ba9ad2dbde94": {
     "id": "a33aa448-8842-415a-bc0c-ba9ad2dbde94",
     "prev": "e73bfa85-351d-41ca-9ee6-90d14fb69161",
     "regions": {
      "113c986a-4e78-46d0-b710-8e800c379a7a": {
       "attrs": {
        "height": 0.8,
        "width": 0.8,
        "x": 0.1,
        "y": 0.1
       },
       "content": {
        "cell": "274b78f3-df52-4df5-b70c-6363a431f17f",
        "part": "whole"
       },
       "id": "113c986a-4e78-46d0-b710-8e800c379a7a"
      }
     }
    },
    "a4d979e6-5894-4d37-a647-d370c1ad9933": {
     "id": "a4d979e6-5894-4d37-a647-d370c1ad9933",
     "prev": "c6d3d2e9-835c-47d5-95a7-32a9abdd8a05",
     "regions": {
      "e18c507d-49e2-436d-a8be-ad3624d6348f": {
       "attrs": {
        "height": 0.8,
        "width": 0.8,
        "x": 0.1,
        "y": 0.1
       },
       "content": {
        "cell": "c38f95c4-d6cf-4ab8-9ccf-5d9309945922",
        "part": "whole"
       },
       "id": "e18c507d-49e2-436d-a8be-ad3624d6348f"
      }
     }
    },
    "ab6382d4-5920-4e65-b382-01603e3ce071": {
     "id": "ab6382d4-5920-4e65-b382-01603e3ce071",
     "prev": "6825e733-0d56-4bc8-b4c5-61eef425d411",
     "regions": {
      "7ad8607b-5750-41c2-b5b5-eb425774d469": {
       "attrs": {
        "height": 0.8,
        "width": 0.8,
        "x": 0.1,
        "y": 0.1
       },
       "content": {
        "cell": "4fbd9129-5081-4b63-9af9-7a6da7f61e3b",
        "part": "whole"
       },
       "id": "7ad8607b-5750-41c2-b5b5-eb425774d469"
      }
     }
    },
    "ab8e295e-bbb3-4d90-b675-8e4366bf38ca": {
     "id": "ab8e295e-bbb3-4d90-b675-8e4366bf38ca",
     "prev": "6ff2bcd4-dd73-4dbc-9352-fc0bd0a0302d",
     "regions": {
      "3e0922c3-71f5-4f15-a5be-f4eb5166624a": {
       "attrs": {
        "height": 0.8,
        "width": 0.8,
        "x": 0.1,
        "y": 0.1
       },
       "content": {
        "cell": "ba649845-44cf-41db-9cd8-33a41e3dd208",
        "part": "whole"
       },
       "id": "3e0922c3-71f5-4f15-a5be-f4eb5166624a"
      }
     }
    },
    "c6d3d2e9-835c-47d5-95a7-32a9abdd8a05": {
     "id": "c6d3d2e9-835c-47d5-95a7-32a9abdd8a05",
     "prev": "8167b954-f172-4fdf-bb97-10b42bce67f4",
     "regions": {
      "d4d5779f-b080-4478-8c2a-9491eb557aba": {
       "attrs": {
        "height": 0.8,
        "width": 0.8,
        "x": 0.1,
        "y": 0.1
       },
       "content": {
        "cell": "c4c88cd9-845d-46b0-b0cf-f0f03555db15",
        "part": "whole"
       },
       "id": "d4d5779f-b080-4478-8c2a-9491eb557aba"
      }
     }
    },
    "c7d316c6-eaa6-4df9-9470-eac6b8a39e11": {
     "id": "c7d316c6-eaa6-4df9-9470-eac6b8a39e11",
     "prev": "33d6b748-30c0-4213-980e-10229c1a7fc7",
     "regions": {
      "f5513129-9de2-4aaf-82ff-5928dc837040": {
       "attrs": {
        "height": 0.8,
        "width": 0.8,
        "x": 0.1,
        "y": 0.1
       },
       "content": {
        "cell": "922bc755-438a-4a62-9675-57737e3e947c",
        "part": "whole"
       },
       "id": "f5513129-9de2-4aaf-82ff-5928dc837040"
      }
     }
    },
    "d3b24fd2-3be7-4760-b8f9-b1d80f2de424": {
     "id": "d3b24fd2-3be7-4760-b8f9-b1d80f2de424",
     "prev": "31558b03-833a-4b52-b0e9-cff16846e5bb",
     "regions": {
      "5c7ef84c-a261-446a-b5b8-ada0749c75c4": {
       "attrs": {
        "height": 0.8,
        "width": 0.8,
        "x": 0.1,
        "y": 0.1
       },
       "content": {
        "cell": "da3a6e30-0fe7-41d7-8e02-89c0fdd8c9f0",
        "part": "whole"
       },
       "id": "5c7ef84c-a261-446a-b5b8-ada0749c75c4"
      }
     }
    },
    "d5181584-d6a3-42a9-b795-5cd866df5df2": {
     "id": "d5181584-d6a3-42a9-b795-5cd866df5df2",
     "prev": "ab6382d4-5920-4e65-b382-01603e3ce071",
     "regions": {
      "a31ff248-41ba-4a9f-911a-bd80d5edd388": {
       "attrs": {
        "height": 0.8,
        "width": 0.8,
        "x": 0.1,
        "y": 0.1
       },
       "content": {
        "cell": "9c19be51-8619-403b-8cb9-3eae3e8d44ce",
        "part": "whole"
       },
       "id": "a31ff248-41ba-4a9f-911a-bd80d5edd388"
      }
     }
    },
    "d6c7fc18-4ea2-4a34-bbdb-e449411ced0c": {
     "id": "d6c7fc18-4ea2-4a34-bbdb-e449411ced0c",
     "prev": "80b57665-05d3-4179-b6a7-616d016d7e42",
     "regions": {
      "cd321db1-8c78-45af-8d01-23007393fba6": {
       "attrs": {
        "height": 0.8,
        "width": 0.8,
        "x": 0.1,
        "y": 0.1
       },
       "content": {
        "cell": "b88abfac-02be-4d16-a9a0-d4a61a1c4053",
        "part": "whole"
       },
       "id": "cd321db1-8c78-45af-8d01-23007393fba6"
      }
     }
    },
    "e73bfa85-351d-41ca-9ee6-90d14fb69161": {
     "id": "e73bfa85-351d-41ca-9ee6-90d14fb69161",
     "prev": "13966881-67fd-4821-aa18-ec64578e34f2",
     "regions": {
      "9e26bad8-2071-4e13-87d4-46e296aab97f": {
       "attrs": {
        "height": 0.8,
        "width": 0.8,
        "x": 0.1,
        "y": 0.1
       },
       "content": {
        "cell": "8f4f0169-b177-44cf-aebc-bf2874c875aa",
        "part": "whole"
       },
       "id": "9e26bad8-2071-4e13-87d4-46e296aab97f"
      }
     }
    },
    "f49b60d0-87b9-4874-af0b-512deddb1bf6": {
     "id": "f49b60d0-87b9-4874-af0b-512deddb1bf6",
     "prev": "2b2b70be-718c-4db1-b2fe-309f200a8c2a",
     "regions": {
      "2c065415-0252-4d9c-8d72-3902704c845f": {
       "attrs": {
        "height": 0.8,
        "width": 0.8,
        "x": 0.1,
        "y": 0.1
       },
       "content": {
        "cell": "2ca5b5e2-d99a-4b82-a8de-4798a9ed490e",
        "part": "whole"
       },
       "id": "2c065415-0252-4d9c-8d72-3902704c845f"
      }
     }
    },
    "f9a5f751-5db0-4efc-88d2-08fd16599997": {
     "id": "f9a5f751-5db0-4efc-88d2-08fd16599997",
     "prev": "d5181584-d6a3-42a9-b795-5cd866df5df2",
     "regions": {
      "8c2763dc-c418-496f-92bf-0ea1098b23ab": {
       "attrs": {
        "height": 0.8,
        "width": 0.8,
        "x": 0.1,
        "y": 0.1
       },
       "content": {
        "cell": "8b7d722a-f98f-438e-983c-1bb9cff81790",
        "part": "whole"
       },
       "id": "8c2763dc-c418-496f-92bf-0ea1098b23ab"
      }
     }
    }
   },
   "themes": {}
  }
 },
 "nbformat": 4,
 "nbformat_minor": 0
}

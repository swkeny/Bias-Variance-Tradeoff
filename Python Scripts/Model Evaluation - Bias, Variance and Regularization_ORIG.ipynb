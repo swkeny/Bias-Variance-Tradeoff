{
 "cells": [
  {
   "cell_type": "markdown",
   "metadata": {},
   "source": [
    "## Intro"
   ]
  },
  {
   "cell_type": "markdown",
   "metadata": {},
   "source": [
    "Blah, blah, blah, blah, BIAS. \n",
    "Blah, blah, blah, blah, VARIANCE. \n",
    "Blah, blah, OMG, TRADEOFF!! - Tom France\n",
    "\n",
    "Stephen Kenyon: \"Looks like that masters program is really paying off!\""
   ]
  },
  {
   "cell_type": "code",
   "execution_count": null,
   "metadata": {
    "collapsed": false
   },
   "outputs": [],
   "source": [
    "import math\n",
    "import random\n",
    "from sklearn import cross_validation, linear_model\n",
    "from sklearn.cross_validation import train_test_split\n",
    "from pylab import *\n",
    "import random\n",
    "import pandas as pd\n",
    "import numpy as np\n",
    "from matplotlib import pyplot as plt\n",
    "from matplotlib.pyplot import *\n",
    "%matplotlib inline\n",
    "\n",
    "xmin = -math.pi\n",
    "xmax = math.pi\n",
    "ymin = -2\n",
    "ymax = 2\n",
    "polynomialDegrees = [1, 2, 3, 10, 15]\n",
    "dataPointsPerTrainingSet = 50\n",
    "testSplit = 0.2\n",
    "\n",
    "seedMap = [123, 232, 13, 100, 344, 45, 71, 99, 199, 80]\n",
    "numberOfTrainingSets = seedMap.__len__()"
   ]
  },
  {
   "cell_type": "code",
   "execution_count": null,
   "metadata": {
    "collapsed": false
   },
   "outputs": [],
   "source": [
    "# generate noisy data from an underlying function\n",
    "def createSineData(n, seed):\n",
    "    random.seed(seed) # for reproducibility\n",
    "    x = pd.Series([random.uniform(-math.pi, math.pi) for i in range(n)])\n",
    "    f = np.vectorize(lambda x: math.sin(x)) # our true function\n",
    "    y = x.apply(f) # generate our labels/outputs\n",
    "    e = pd.Series([random.gauss(0,1.0/3.0) for i in range(n)]) # add some noise\n",
    "    y = y + e\n",
    "    return np.stack((x, y), axis=-1)\n",
    "\n",
    "# Calculate Training MSE\n",
    "def training_MSE_ByComplexity(dataSetTrain, solutionSet):\n",
    "      avgMSE = {}\n",
    "      for i in range(numberOfTrainingSets):\n",
    "            x = dataSetTrain[i]['x']\n",
    "            y = dataSetTrain[i]['y']\n",
    "            avgMSE[i] = {}\n",
    "            for s in range(polynomialDegrees.__len__()):\n",
    "                  avgMSE[i][s] = np.mean((np.polyval(solutionSet[i][s], x) - y) ** 2)\n",
    "      return avgMSE\n",
    "\n",
    "def transformArray(array, len):\n",
    "      transformedArray = {}\n",
    "      for i in range(len):\n",
    "            transformedArray[i] = {}\n",
    "            for j in range(numberOfTrainingSets):\n",
    "                  transformedArray[i][j] = array[j][i]\n",
    "      return transformedArray\n",
    "#For a given solution, average squared error across all datasets\n",
    "def training_MSE_toPlot(xpoints, solutionSet, solutionIndex):\n",
    "      meanSquaredError = {}\n",
    "      result = {}\n",
    "      len = xpoints.__len__()\n",
    "      x = pd.Series(xpoints)\n",
    "      f = np.vectorize(lambda x: math.sin(x))\n",
    "      y = x.apply(f)\n",
    "      for i in range(numberOfTrainingSets):\n",
    "            yhat = solutions[index][solutionIndex](xpoints)\n",
    "            meanSquaredError[i]= (yhat - y) ** 2\n",
    "      transformedMeanSquareError = transformArray(meanSquaredError, len)\n",
    "      for row in range(len):\n",
    "            sum = 0\n",
    "            for column in range(numberOfTrainingSets):\n",
    "                  sum = sum + transformedMeanSquareError[row][column]\n",
    "            result[row] = sum/numberOfTrainingSets\n",
    "      return result\n",
    "\n",
    "def avgFittedFunction(solutionSet):\n",
    "      avgEstimators = {}\n",
    "      for s in range(polynomialDegrees.__len__()):\n",
    "            sumEst = 0\n",
    "            for i in range(numberOfTrainingSets):\n",
    "                  sumEst = sumEst + solutionSet[i][s]\n",
    "            avgEstimators[s] = sumEst / numberOfTrainingSets\n",
    "      return avgEstimators\n",
    "\n",
    "def solutionBias_ByComplexity(dataSetTest, solutionSet):\n",
    "      solutionBias = {}\n",
    "      avgEstimators = avgFittedFunction(solutionSet)\n",
    "      for s in range(polynomialDegrees.__len__()):\n",
    "            solutionBiasPerDataSet = []\n",
    "            x = pd.Series([random.uniform(-math.pi, math.pi) for i in range(dataPointsPerTrainingSet)])\n",
    "            f = np.vectorize(lambda x: math.sin(x))  # our true function\n",
    "            y = x.apply(f)\n",
    "            solutionBias[s] = np.mean(np.polyval(avgEstimators[s], x)-y)\n",
    "      return solutionBias"
   ]
  },
  {
   "cell_type": "markdown",
   "metadata": {},
   "source": [
    "## Create data sets and train models"
   ]
  },
  {
   "cell_type": "code",
   "execution_count": null,
   "metadata": {
    "collapsed": false
   },
   "outputs": [],
   "source": [
    "dataSetsTrain = {}\n",
    "dataSetsTest = {}\n",
    "for i in range(numberOfTrainingSets):\n",
    "      dataSetsTrain[i] = {}\n",
    "      dataSetsTest[i] = {}\n",
    "      ds = createSineData(dataPointsPerTrainingSet, seedMap[i])\n",
    "      train, test = train_test_split(ds, test_size=testSplit)\n",
    "      dataSetsTrain[i]['x'] = train[:,0]\n",
    "      dataSetsTrain[i]['y'] = train[:,1]\n",
    "      dataSetsTest[i]['x'] = test[:,0]\n",
    "      dataSetsTest[i]['y'] = test[:,1]\n",
    "    \n",
    "solutions = {}\n",
    "for x in range(numberOfTrainingSets):\n",
    "      solutions[x]={}\n",
    "      for s in range(polynomialDegrees.__len__()):\n",
    "            x1 = dataSetsTrain[x]['x']\n",
    "            y1 = dataSetsTrain[x]['y']\n",
    "            func = np.polyfit(x1, y1, polynomialDegrees[s])\n",
    "            solutions[x][s] = poly1d(func)"
   ]
  },
  {
   "cell_type": "markdown",
   "metadata": {},
   "source": [
    "## Fitting a 0-degree Polynomial"
   ]
  },
  {
   "cell_type": "code",
   "execution_count": null,
   "metadata": {
    "collapsed": false,
    "scrolled": true
   },
   "outputs": [],
   "source": [
    "p1 = np.poly1d(np.polyfit(x, y, 0))\n",
    "xp = np.linspace(0, 1, 100)\n",
    "_ = plt.plot(x, y, '.')\n",
    "_ = plt.plot(xp, p1(xp), '-', label = 'degree 0 fit')\n",
    "_ = plt.legend(loc='upper left')"
   ]
  },
  {
   "cell_type": "markdown",
   "metadata": {},
   "source": [
    "## Fitting a 1-degree Polynomial"
   ]
  },
  {
   "cell_type": "code",
   "execution_count": null,
   "metadata": {
    "collapsed": false
   },
   "outputs": [],
   "source": [
    "xpoints = np.linspace(-math.pi, math.pi, 100)\n",
    "axes = plt.gca()\n",
    "axes.set_xlim([xmin,xmax])\n",
    "axes.set_ylim([ymin,ymax])\n",
    "\n",
    "index = 1\n",
    "solutionIndex = 0\n",
    "\n",
    "x = dataSetsTrain[index]['x']\n",
    "y = dataSetsTrain[index]['y']\n",
    "\n",
    "p1 = solutions[index][solutionIndex]\n",
    "_ = plt.plot(x, y, '.')\n",
    "_ = plt.plot(xpoints, p1(xpoints), '-', label = 'degree 1 fit')\n",
    "_ = plt.legend(loc='upper left')\n"
   ]
  },
  {
   "cell_type": "markdown",
   "metadata": {},
   "source": [
    "## Fitting a 4-degree Polynomial"
   ]
  },
  {
   "cell_type": "code",
   "execution_count": null,
   "metadata": {
    "collapsed": false
   },
   "outputs": [],
   "source": [
    "p4 = np.poly1d(np.polyfit(x, y, 4))\n",
    "_ = plt.plot(x, y, '.')\n",
    "_ = plt.plot(xp, p4(xp), '-', label = 'degree 4 fit')\n",
    "_ = plt.legend(loc='upper left')"
   ]
  },
  {
   "cell_type": "markdown",
   "metadata": {},
   "source": [
    "## Fitting a 6-degree Polynomial"
   ]
  },
  {
   "cell_type": "code",
   "execution_count": null,
   "metadata": {
    "collapsed": false
   },
   "outputs": [],
   "source": [
    "p6 = np.poly1d(np.polyfit(x, y, 6))\n",
    "_ = plt.plot(x, y, '.')\n",
    "_ = plt.plot(xp, p6(xp), '-', label = 'degree 6 fit')\n",
    "_ = plt.legend(loc='upper left')"
   ]
  },
  {
   "cell_type": "markdown",
   "metadata": {},
   "source": [
    "## Effect of sample size on model complexity"
   ]
  },
  {
   "cell_type": "markdown",
   "metadata": {},
   "source": [
    "### Fitting a 6-degree Polynomial, n = 30"
   ]
  },
  {
   "cell_type": "code",
   "execution_count": 150,
   "metadata": {
    "collapsed": false
   },
   "outputs": [
    {
     "data": {
      "image/png": "[encoded data removed]",
      "text/plain": [
       "<matplotlib.figure.Figure at 0x1279870d0>"
      ]
     },
     "metadata": {},
     "output_type": "display_data"
    }
   ],
   "source": [
    "x, y = createSineData(30)\n",
    "p6 = np.poly1d(np.polyfit(x, y, 6))\n",
    "_ = plt.plot(x, y, '.')\n",
    "_ = plt.plot(xp, p6(xp), '-', label = 'degree 6 fit')\n",
    "_ = plt.legend(loc='upper left')"
   ]
  },
  {
   "cell_type": "markdown",
   "metadata": {},
   "source": [
    "### Fitting a 6-degree Polynomial, n = 100"
   ]
  },
  {
   "cell_type": "code",
   "execution_count": 148,
   "metadata": {
    "collapsed": false
   },
   "outputs": [
    {
     "data": {
      "image/png": "[encoded data removed]",
      "text/plain": [
       "<matplotlib.figure.Figure at 0x126237c10>"
      ]
     },
     "metadata": {},
     "output_type": "display_data"
    }
   ],
   "source": [
    "x, y = createSineData(100)\n",
    "p6 = np.poly1d(np.polyfit(x, y, 6))\n",
    "_ = plt.plot(x, y, '.')\n",
    "_ = plt.plot(xp, p6(xp), '-', label = 'degree 6 fit')\n",
    "_ = plt.legend(loc='upper left')"
   ]
  },
  {
   "cell_type": "markdown",
   "metadata": {},
   "source": [
    "### Fitting a 6-degree Polynomial, n = 300"
   ]
  },
  {
   "cell_type": "code",
   "execution_count": 152,
   "metadata": {
    "collapsed": false
   },
   "outputs": [
    {
     "data": {
      "image/png": "[encoded data removed]",
      "text/plain": [
       "<matplotlib.figure.Figure at 0x1279e4a10>"
      ]
     },
     "metadata": {},
     "output_type": "display_data"
    }
   ],
   "source": [
    "x, y = createSineData(300)\n",
    "p6 = np.poly1d(np.polyfit(x, y, 6))\n",
    "_ = plt.plot(x, y, '.')\n",
    "_ = plt.plot(xp, p6(xp), '-', label = 'degree 6 fit')\n",
    "_ = plt.legend(loc='upper left')"
   ]
  },
  {
   "cell_type": "markdown",
   "metadata": {},
   "source": [
    "The extra data (evenly distributed) constrains the function"
   ]
  },
  {
   "cell_type": "code",
   "execution_count": null,
   "metadata": {
    "collapsed": true
   },
   "outputs": [],
   "source": []
  }
 ],
 "metadata": {
  "anaconda-cloud": {},
  "kernelspec": {
   "display_name": "Python [Root]",
   "language": "python",
   "name": "Python [Root]"
  },
  "language_info": {
   "codemirror_mode": {
    "name": "ipython",
    "version": 3
   },
   "file_extension": ".py",
   "mimetype": "text/x-python",
   "name": "python",
   "nbconvert_exporter": "python",
   "pygments_lexer": "ipython3",
   "version": "3.5.2"
  }
 },
 "nbformat": 4,
 "nbformat_minor": 0
}
